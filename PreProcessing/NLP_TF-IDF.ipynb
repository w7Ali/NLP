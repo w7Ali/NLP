{
 "cells": [
  {
   "cell_type": "markdown",
   "id": "d6f89bd0",
   "metadata": {},
   "source": [
    "# Natural Language Processing"
   ]
  },
  {
   "cell_type": "markdown",
   "id": "4b8164ed",
   "metadata": {},
   "source": [
    "![](NLP.png)\n",
    "![](NLP1.png)"
   ]
  },
  {
   "cell_type": "markdown",
   "id": "07981338",
   "metadata": {},
   "source": [
    "### Install NLTk"
   ]
  },
  {
   "cell_type": "code",
   "execution_count": 1,
   "id": "c679ccac",
   "metadata": {},
   "outputs": [
    {
     "name": "stdout",
     "output_type": "stream",
     "text": [
      "Requirement already satisfied: nltk in /home/wahid/anaconda3/lib/python3.11/site-packages (3.8.1)\r\n",
      "Requirement already satisfied: click in /home/wahid/anaconda3/lib/python3.11/site-packages (from nltk) (8.0.4)\r\n",
      "Requirement already satisfied: joblib in /home/wahid/anaconda3/lib/python3.11/site-packages (from nltk) (1.1.1)\r\n",
      "Requirement already satisfied: regex>=2021.8.3 in /home/wahid/anaconda3/lib/python3.11/site-packages (from nltk) (2022.7.9)\r\n",
      "Requirement already satisfied: tqdm in /home/wahid/anaconda3/lib/python3.11/site-packages (from nltk) (4.65.0)\r\n"
     ]
    }
   ],
   "source": [
    "!pip install nltk"
   ]
  },
  {
   "cell_type": "markdown",
   "id": "f1fe4b27",
   "metadata": {},
   "source": [
    "### Import Libraries"
   ]
  },
  {
   "cell_type": "code",
   "execution_count": 2,
   "id": "e94d63b0",
   "metadata": {},
   "outputs": [],
   "source": [
    "import nltk\n",
    "from nltk.stem import PorterStemmer\n",
    "from nltk.stem import WordNetLemmatizer\n",
    "from nltk.corpus import stopwords\n",
    "import re"
   ]
  },
  {
   "cell_type": "markdown",
   "id": "1c0af95b",
   "metadata": {},
   "source": [
    "### Downloads"
   ]
  },
  {
   "cell_type": "code",
   "execution_count": 3,
   "id": "48fa4f91",
   "metadata": {},
   "outputs": [
    {
     "name": "stderr",
     "output_type": "stream",
     "text": [
      "[nltk_data] Error loading punkt: <urlopen error [Errno -3] Temporary\n",
      "[nltk_data]     failure in name resolution>\n",
      "[nltk_data] Error loading wordnet: <urlopen error [Errno -3] Temporary\n",
      "[nltk_data]     failure in name resolution>\n",
      "[nltk_data] Error loading stopwords: <urlopen error [Errno -3]\n",
      "[nltk_data]     Temporary failure in name resolution>\n"
     ]
    },
    {
     "data": {
      "text/plain": [
       "False"
      ]
     },
     "execution_count": 3,
     "metadata": {},
     "output_type": "execute_result"
    }
   ],
   "source": [
    "nltk.download('punkt')\n",
    "nltk.download('wordnet')\n",
    "nltk.download('stopwords')"
   ]
  },
  {
   "cell_type": "markdown",
   "id": "8d9df024",
   "metadata": {},
   "source": [
    "### Initializers"
   ]
  },
  {
   "cell_type": "code",
   "execution_count": 4,
   "id": "663969fb",
   "metadata": {},
   "outputs": [],
   "source": [
    "stemmer = PorterStemmer()\n",
    "lemmatizer = WordNetLemmatizer()"
   ]
  },
  {
   "cell_type": "markdown",
   "id": "fe5ff892",
   "metadata": {},
   "source": [
    "### Let's Start"
   ]
  },
  {
   "cell_type": "code",
   "execution_count": 5,
   "id": "a0d515e2",
   "metadata": {},
   "outputs": [],
   "source": [
    "paragraph = \"\"\"\n",
    "Elon Reeve Musk (/ˈiːlɒn/ EE-lon; born June 28, 1971) is a business magnate and investor. Musk is the founder, chairman, CEO and chief technology officer of SpaceX; angel investor, CEO, product architect and former chairman of Tesla, Inc.; owner, chairman and CTO of X Corp.; founder of the Boring Company; co-founder of Neuralink and OpenAI; and president of the Musk Foundation. He is the wealthiest person in the world, with an estimated net worth of US$232 billion as of September 2023, according to the Bloomberg Billionaires Index, and $253 billion according to Forbes, primarily from his ownership stakes in both Tesla and SpaceX.[4][5]\n",
    "\n",
    "Musk was born in Pretoria, South Africa, and briefly attended the University of Pretoria before immigrating to Canada at age 18, acquiring citizenship through his Canadian-born mother. Two years later, he matriculated at Queen's University in Kingston, Ontario. Musk later transferred to the University of Pennsylvania, and received bachelor's degrees in economics and physics there. He moved to California in 1995 to attend Stanford University. However, Musk dropped out after two days and, with his brother Kimbal, co-founded online city guide software company Zip2. The startup was acquired by Compaq for $307 million in 1999, and with $12 million of the money he made, that same year Musk co-founded X.com, a direct bank. X.com merged with Confinity in 2000 to form PayPal. \n",
    "\"\"\""
   ]
  },
  {
   "cell_type": "code",
   "execution_count": 6,
   "id": "adde29f2",
   "metadata": {},
   "outputs": [
    {
     "data": {
      "text/plain": [
       "\"\\nElon Reeve Musk (/ˈiːlɒn/ EE-lon; born June 28, 1971) is a business magnate and investor. Musk is the founder, chairman, CEO and chief technology officer of SpaceX; angel investor, CEO, product architect and former chairman of Tesla, Inc.; owner, chairman and CTO of X Corp.; founder of the Boring Company; co-founder of Neuralink and OpenAI; and president of the Musk Foundation. He is the wealthiest person in the world, with an estimated net worth of US$232 billion as of September 2023, according to the Bloomberg Billionaires Index, and $253 billion according to Forbes, primarily from his ownership stakes in both Tesla and SpaceX.[4][5]\\n\\nMusk was born in Pretoria, South Africa, and briefly attended the University of Pretoria before immigrating to Canada at age 18, acquiring citizenship through his Canadian-born mother. Two years later, he matriculated at Queen's University in Kingston, Ontario. Musk later transferred to the University of Pennsylvania, and received bachelor's degrees in economics and physics there. He moved to California in 1995 to attend Stanford University. However, Musk dropped out after two days and, with his brother Kimbal, co-founded online city guide software company Zip2. The startup was acquired by Compaq for $307 million in 1999, and with $12 million of the money he made, that same year Musk co-founded X.com, a direct bank. X.com merged with Confinity in 2000 to form PayPal. \\n\""
      ]
     },
     "execution_count": 6,
     "metadata": {},
     "output_type": "execute_result"
    }
   ],
   "source": [
    "paragraph"
   ]
  },
  {
   "cell_type": "markdown",
   "id": "1d657ec5",
   "metadata": {},
   "source": [
    "# PreProcessing"
   ]
  },
  {
   "cell_type": "markdown",
   "id": "29f13f9f",
   "metadata": {},
   "source": [
    "### Tokenization"
   ]
  },
  {
   "cell_type": "markdown",
   "id": "a679439a",
   "metadata": {},
   "source": [
    "![](Token.png)"
   ]
  },
  {
   "cell_type": "raw",
   "id": "b668c171",
   "metadata": {},
   "source": [
    "Tokenization (step before stemming)\n",
    "\n",
    "Before, stemming, tokenization is done so as to break text into chunks. In this case, paragraph to sentences for easy computation.As can be seen from output paragraph is divided into sentences based on “.” "
   ]
  },
  {
   "cell_type": "raw",
   "id": "7c83e7f1",
   "metadata": {},
   "source": [
    "Tokenization (conerting the paragraph into sentences or so called corpus"
   ]
  },
  {
   "cell_type": "code",
   "execution_count": 7,
   "id": "513a3695",
   "metadata": {},
   "outputs": [],
   "source": [
    "sentences = nltk.sent_tokenize(paragraph)"
   ]
  },
  {
   "cell_type": "code",
   "execution_count": 8,
   "id": "90f6478e",
   "metadata": {},
   "outputs": [],
   "source": [
    "corpus = []\n",
    "for i in range(len(sentences)):\n",
    "    review = re.sub('[^a-zA-Z]', ' ', sentences[i])\n",
    "    review = review.lower()\n",
    "    corpus.append(review)"
   ]
  },
  {
   "cell_type": "code",
   "execution_count": 9,
   "id": "c025ed08",
   "metadata": {},
   "outputs": [
    {
     "data": {
      "text/plain": [
       "[' elon reeve musk    i l n  ee lon  born june           is a business magnate and investor ',\n",
       " 'musk is the founder  chairman  ceo and chief technology officer of spacex  angel investor  ceo  product architect and former chairman of tesla  inc   owner  chairman and cto of x corp   founder of the boring company  co founder of neuralink and openai  and president of the musk foundation ',\n",
       " 'he is the wealthiest person in the world  with an estimated net worth of us     billion as of september       according to the bloomberg billionaires index  and      billion according to forbes  primarily from his ownership stakes in both tesla and spacex ',\n",
       " '        musk was born in pretoria  south africa  and briefly attended the university of pretoria before immigrating to canada at age     acquiring citizenship through his canadian born mother ',\n",
       " 'two years later  he matriculated at queen s university in kingston  ontario ',\n",
       " 'musk later transferred to the university of pennsylvania  and received bachelor s degrees in economics and physics there ',\n",
       " 'he moved to california in      to attend stanford university ',\n",
       " 'however  musk dropped out after two days and  with his brother kimbal  co founded online city guide software company zip  ',\n",
       " 'the startup was acquired by compaq for      million in       and with     million of the money he made  that same year musk co founded x com  a direct bank ',\n",
       " 'x com merged with confinity in      to form paypal ']"
      ]
     },
     "execution_count": 9,
     "metadata": {},
     "output_type": "execute_result"
    }
   ],
   "source": [
    "corpus"
   ]
  },
  {
   "cell_type": "markdown",
   "id": "3d9183e2",
   "metadata": {},
   "source": [
    "\n",
    "# Introduction\n",
    "<h4>\n",
    "\n",
    "In the field of Natural Language Processing i.e., NLP, Lemmatization and Stemming are Text Normalization techniques. These techniques are used to prepare words, text, and documents for further processing.\n",
    "\n",
    "Languages such as English, Hindi consists of several words which are often derived from one another. Further, Inflected Language is a term used for a language that contains derived words. For instance, word “historical” is derived from the word “history” and hence is the derived word.\n",
    "\n",
    "There is always a common root form for all inflected words. Further, degree of inflection varies from lower to higher depending on the language.\n",
    "\n",
    "To sum up, root form of derived or inflected words are attained using Stemming and Lemmatization.\n",
    "\n",
    "The package namely, nltk.stem is used to perform stemming via different classes. We import PorterStemmer from nltk.stem to perform the above task.\n",
    "\n",
    "For instance, ran, runs, and running are derived from one word i.e., run, therefore the lemma of all three words is run. Lemmatization is used to get valid words as the actual word is returned. </h4>"
   ]
  },
  {
   "cell_type": "markdown",
   "id": "6c0cc7f5",
   "metadata": {},
   "source": [
    "#### Stemming"
   ]
  },
  {
   "cell_type": "markdown",
   "id": "76d864a3",
   "metadata": {},
   "source": [
    "![In the code given below, one sentence is taken at a time and word tokenization is applied i.e., converting sentence to words. After that, stopwords (such as the, and, etc) are ignored and stemming is applied on all other words. Finally, stem words are joined to make a sentence.\n",
    "Note: Stopwords are the words that do not add any value to the sentence](stemming1.png)![](stemming2.png)"
   ]
  },
  {
   "cell_type": "raw",
   "id": "2d4072ed",
   "metadata": {},
   "source": [
    "In the code given below, one sentence is taken at a time and word tokenization is applied i.e., converting sentence to words. After that, stopwords (such as the, and, etc) are ignored and stemming is applied on all other words. Finally, stem words are joined to make a sentence.\n",
    "\n",
    "Note: Stopwords are the words that do not add any value to the sentence."
   ]
  },
  {
   "cell_type": "markdown",
   "id": "9c000bf9",
   "metadata": {},
   "source": [
    "#### What is Lemmatization"
   ]
  },
  {
   "cell_type": "raw",
   "id": "c4471e0d",
   "metadata": {},
   "source": [
    "\n",
    "The purpose of lemmatization is same as that of stemming but overcomes the drawbacks of stemming. In stemming, for some words, it may not give may not give meaningful representation such as “Histori”. Here, lemmatization comes into picture as it gives meaningful word.\n",
    "\n",
    "Lemmatization takes more time as compared to stemming because it finds meaningful word/ representation. Stemming just needs to get a base word and therefore takes less time.\n",
    "\n",
    "Stemming has its application in Sentiment Analysis while Lemmatization has its application in Chatbots, human-answering."
   ]
  },
  {
   "cell_type": "raw",
   "id": "6853574b",
   "metadata": {},
   "source": [
    "Stemming vs Lemmatization\n",
    "Stemming\tLemmatization\n",
    "Stemming is a process that stems or removes last few characters from a word, often leading to incorrect meanings and spelling.\tLemmatization considers the context and converts the word to its meaningful base form, which is called Lemma.\n",
    "For instance, stemming the word ‘Caring‘ would return ‘Car‘.\n",
    "\tFor instance, lemmatizing the word ‘Caring‘ would return ‘Care‘.\n",
    "Stemming is used in case of large dataset where performance is an issue.\tLemmatization is computationally expensive since it involves look-up tables and what not."
   ]
  },
  {
   "cell_type": "markdown",
   "id": "78f02b52",
   "metadata": {},
   "source": [
    "![Image description](Stemming_Lemmatization.png)"
   ]
  },
  {
   "cell_type": "markdown",
   "id": "a386af1f",
   "metadata": {},
   "source": [
    "### Let's Do"
   ]
  },
  {
   "cell_type": "markdown",
   "id": "01f365a6",
   "metadata": {},
   "source": [
    "#### Stemming"
   ]
  },
  {
   "cell_type": "code",
   "execution_count": 10,
   "id": "83b57c8e",
   "metadata": {},
   "outputs": [
    {
     "name": "stdout",
     "output_type": "stream",
     "text": [
      "elon\n",
      "reev\n",
      "musk\n",
      "l\n",
      "n\n",
      "ee\n",
      "lon\n",
      "born\n",
      "june\n",
      "busi\n",
      "magnat\n",
      "investor\n",
      "musk\n",
      "founder\n",
      "chairman\n",
      "ceo\n",
      "chief\n",
      "technolog\n",
      "offic\n",
      "spacex\n",
      "angel\n",
      "investor\n",
      "ceo\n",
      "product\n",
      "architect\n",
      "former\n",
      "chairman\n",
      "tesla\n",
      "inc\n",
      "owner\n",
      "chairman\n",
      "cto\n",
      "x\n",
      "corp\n",
      "founder\n",
      "bore\n",
      "compani\n",
      "co\n",
      "founder\n",
      "neuralink\n",
      "openai\n",
      "presid\n",
      "musk\n",
      "foundat\n",
      "wealthiest\n",
      "person\n",
      "world\n",
      "estim\n",
      "net\n",
      "worth\n",
      "us\n",
      "billion\n",
      "septemb\n",
      "accord\n",
      "bloomberg\n",
      "billionair\n",
      "index\n",
      "billion\n",
      "accord\n",
      "forb\n",
      "primarili\n",
      "ownership\n",
      "stake\n",
      "tesla\n",
      "spacex\n",
      "musk\n",
      "born\n",
      "pretoria\n",
      "south\n",
      "africa\n",
      "briefli\n",
      "attend\n",
      "univers\n",
      "pretoria\n",
      "immigr\n",
      "canada\n",
      "age\n",
      "acquir\n",
      "citizenship\n",
      "canadian\n",
      "born\n",
      "mother\n",
      "two\n",
      "year\n",
      "later\n",
      "matricul\n",
      "queen\n",
      "univers\n",
      "kingston\n",
      "ontario\n",
      "musk\n",
      "later\n",
      "transfer\n",
      "univers\n",
      "pennsylvania\n",
      "receiv\n",
      "bachelor\n",
      "degre\n",
      "econom\n",
      "physic\n",
      "move\n",
      "california\n",
      "attend\n",
      "stanford\n",
      "univers\n",
      "howev\n",
      "musk\n",
      "drop\n",
      "two\n",
      "day\n",
      "brother\n",
      "kimbal\n",
      "co\n",
      "found\n",
      "onlin\n",
      "citi\n",
      "guid\n",
      "softwar\n",
      "compani\n",
      "zip\n",
      "startup\n",
      "acquir\n",
      "compaq\n",
      "million\n",
      "million\n",
      "money\n",
      "made\n",
      "year\n",
      "musk\n",
      "co\n",
      "found\n",
      "x\n",
      "com\n",
      "direct\n",
      "bank\n",
      "x\n",
      "com\n",
      "merg\n",
      "confin\n",
      "form\n",
      "paypal\n"
     ]
    }
   ],
   "source": [
    "for i in corpus:   # I'm not applying stemming just printing instead of saving\n",
    "    words = nltk.word_tokenize(i)\n",
    "    for word in words:\n",
    "        if word not in set(stopwords.words('english')):\n",
    "            print(stemmer.stem(word))"
   ]
  },
  {
   "cell_type": "markdown",
   "id": "a6e07c62",
   "metadata": {},
   "source": [
    "#### Lemmatization"
   ]
  },
  {
   "cell_type": "code",
   "execution_count": 11,
   "id": "ecfb816f",
   "metadata": {},
   "outputs": [],
   "source": [
    "import re   # Now applying Lemmitization\n",
    "corpus = []\n",
    "for i in range(len(sentences)):\n",
    "    review = re.sub('[^a-zA-Z]', ' ', sentences[i]) # it says that otherthan(^) a-z and A-z replace all with ' ' (whitespace )in sentence of i\n",
    "    review = review.lower()\n",
    "    review = review.split()\n",
    "    review = [lemmatizer.lemmatize(word) for word in review if not word  in set(stopwords.words('english'))]\n",
    "    review = ' '.join(review)\n",
    "    corpus.append(review)"
   ]
  },
  {
   "cell_type": "code",
   "execution_count": 12,
   "id": "7b4e9578",
   "metadata": {},
   "outputs": [
    {
     "data": {
      "text/plain": [
       "['elon reeve musk l n ee lon born june business magnate investor',\n",
       " 'musk founder chairman ceo chief technology officer spacex angel investor ceo product architect former chairman tesla inc owner chairman cto x corp founder boring company co founder neuralink openai president musk foundation',\n",
       " 'wealthiest person world estimated net worth u billion september according bloomberg billionaire index billion according forbes primarily ownership stake tesla spacex',\n",
       " 'musk born pretoria south africa briefly attended university pretoria immigrating canada age acquiring citizenship canadian born mother',\n",
       " 'two year later matriculated queen university kingston ontario',\n",
       " 'musk later transferred university pennsylvania received bachelor degree economics physic',\n",
       " 'moved california attend stanford university',\n",
       " 'however musk dropped two day brother kimbal co founded online city guide software company zip',\n",
       " 'startup acquired compaq million million money made year musk co founded x com direct bank',\n",
       " 'x com merged confinity form paypal']"
      ]
     },
     "execution_count": 12,
     "metadata": {},
     "output_type": "execute_result"
    }
   ],
   "source": [
    "corpus"
   ]
  },
  {
   "cell_type": "markdown",
   "id": "1ef5c890",
   "metadata": {},
   "source": [
    "### Bog of Words"
   ]
  },
  {
   "cell_type": "code",
   "execution_count": 13,
   "id": "b33ce69a",
   "metadata": {},
   "outputs": [],
   "source": [
    "from sklearn.feature_extraction.text import CountVectorizer\n",
    "cv = CountVectorizer(binary=True,ngram_range=(2,3)) # it includes both bigrams and trigrams "
   ]
  },
  {
   "cell_type": "code",
   "execution_count": 14,
   "id": "cf34b089",
   "metadata": {},
   "outputs": [],
   "source": [
    "X = cv.fit_transform(corpus)"
   ]
  },
  {
   "cell_type": "code",
   "execution_count": 15,
   "id": "e7ae20a3",
   "metadata": {},
   "outputs": [
    {
     "data": {
      "text/plain": [
       "{'elon reeve': 95,\n",
       " 'reeve musk': 197,\n",
       " 'musk ee': 158,\n",
       " 'ee lon': 93,\n",
       " 'lon born': 135,\n",
       " 'born june': 32,\n",
       " 'june business': 126,\n",
       " 'business magnate': 41,\n",
       " 'magnate investor': 139,\n",
       " 'elon reeve musk': 96,\n",
       " 'reeve musk ee': 198,\n",
       " 'musk ee lon': 159,\n",
       " 'ee lon born': 94,\n",
       " 'lon born june': 136,\n",
       " 'born june business': 33,\n",
       " 'june business magnate': 127,\n",
       " 'business magnate investor': 42,\n",
       " 'musk founder': 161,\n",
       " 'founder chairman': 110,\n",
       " 'chairman ceo': 53,\n",
       " 'ceo chief': 49,\n",
       " 'chief technology': 59,\n",
       " 'technology officer': 212,\n",
       " 'officer spacex': 169,\n",
       " 'spacex angel': 205,\n",
       " 'angel investor': 12,\n",
       " 'investor ceo': 124,\n",
       " 'ceo product': 51,\n",
       " 'product architect': 191,\n",
       " 'architect former': 14,\n",
       " 'former chairman': 102,\n",
       " 'chairman tesla': 57,\n",
       " 'tesla inc': 214,\n",
       " 'inc owner': 120,\n",
       " 'owner chairman': 175,\n",
       " 'chairman cto': 55,\n",
       " 'cto corp': 83,\n",
       " 'corp founder': 81,\n",
       " 'founder boring': 108,\n",
       " 'boring company': 30,\n",
       " 'company co': 74,\n",
       " 'co founder': 68,\n",
       " 'founder neuralink': 112,\n",
       " 'neuralink openai': 167,\n",
       " 'openai president': 173,\n",
       " 'president musk': 183,\n",
       " 'musk foundation': 160,\n",
       " 'musk founder chairman': 162,\n",
       " 'founder chairman ceo': 111,\n",
       " 'chairman ceo chief': 54,\n",
       " 'ceo chief technology': 50,\n",
       " 'chief technology officer': 60,\n",
       " 'technology officer spacex': 213,\n",
       " 'officer spacex angel': 170,\n",
       " 'spacex angel investor': 206,\n",
       " 'angel investor ceo': 13,\n",
       " 'investor ceo product': 125,\n",
       " 'ceo product architect': 52,\n",
       " 'product architect former': 192,\n",
       " 'architect former chairman': 15,\n",
       " 'former chairman tesla': 103,\n",
       " 'chairman tesla inc': 58,\n",
       " 'tesla inc owner': 215,\n",
       " 'inc owner chairman': 121,\n",
       " 'owner chairman cto': 176,\n",
       " 'chairman cto corp': 56,\n",
       " 'cto corp founder': 84,\n",
       " 'corp founder boring': 82,\n",
       " 'founder boring company': 109,\n",
       " 'boring company co': 31,\n",
       " 'company co founder': 75,\n",
       " 'co founder neuralink': 69,\n",
       " 'founder neuralink openai': 113,\n",
       " 'neuralink openai president': 168,\n",
       " 'openai president musk': 174,\n",
       " 'president musk foundation': 184,\n",
       " 'wealthiest person': 229,\n",
       " 'person world': 181,\n",
       " 'world estimated': 231,\n",
       " 'estimated net': 97,\n",
       " 'net worth': 165,\n",
       " 'worth billion': 233,\n",
       " 'billion september': 24,\n",
       " 'september according': 199,\n",
       " 'according bloomberg': 0,\n",
       " 'bloomberg billionaire': 28,\n",
       " 'billionaire index': 26,\n",
       " 'index billion': 122,\n",
       " 'billion according': 22,\n",
       " 'according forbes': 2,\n",
       " 'forbes primarily': 99,\n",
       " 'primarily ownership': 189,\n",
       " 'ownership stake': 177,\n",
       " 'stake tesla': 207,\n",
       " 'tesla spacex': 216,\n",
       " 'wealthiest person world': 230,\n",
       " 'person world estimated': 182,\n",
       " 'world estimated net': 232,\n",
       " 'estimated net worth': 98,\n",
       " 'net worth billion': 166,\n",
       " 'worth billion september': 234,\n",
       " 'billion september according': 25,\n",
       " 'september according bloomberg': 200,\n",
       " 'according bloomberg billionaire': 1,\n",
       " 'bloomberg billionaire index': 29,\n",
       " 'billionaire index billion': 27,\n",
       " 'index billion according': 123,\n",
       " 'billion according forbes': 23,\n",
       " 'according forbes primarily': 3,\n",
       " 'forbes primarily ownership': 100,\n",
       " 'primarily ownership stake': 190,\n",
       " 'ownership stake tesla': 178,\n",
       " 'stake tesla spacex': 208,\n",
       " 'musk born': 152,\n",
       " 'born pretoria': 35,\n",
       " 'pretoria south': 187,\n",
       " 'south africa': 203,\n",
       " 'africa briefly': 8,\n",
       " 'briefly attended': 37,\n",
       " 'attended university': 18,\n",
       " 'university pretoria': 227,\n",
       " 'pretoria immigrating': 185,\n",
       " 'immigrating canada': 118,\n",
       " 'canada age': 45,\n",
       " 'age acquiring': 10,\n",
       " 'acquiring citizenship': 6,\n",
       " 'citizenship canadian': 61,\n",
       " 'canadian born': 47,\n",
       " 'born mother': 34,\n",
       " 'musk born pretoria': 153,\n",
       " 'born pretoria south': 36,\n",
       " 'pretoria south africa': 188,\n",
       " 'south africa briefly': 204,\n",
       " 'africa briefly attended': 9,\n",
       " 'briefly attended university': 38,\n",
       " 'attended university pretoria': 19,\n",
       " 'university pretoria immigrating': 228,\n",
       " 'pretoria immigrating canada': 186,\n",
       " 'immigrating canada age': 119,\n",
       " 'canada age acquiring': 46,\n",
       " 'age acquiring citizenship': 11,\n",
       " 'acquiring citizenship canadian': 7,\n",
       " 'citizenship canadian born': 62,\n",
       " 'canadian born mother': 48,\n",
       " 'two year': 221,\n",
       " 'year later': 235,\n",
       " 'later matriculated': 131,\n",
       " 'matriculated queen': 140,\n",
       " 'queen university': 193,\n",
       " 'university kingston': 223,\n",
       " 'kingston ontario': 130,\n",
       " 'two year later': 222,\n",
       " 'year later matriculated': 236,\n",
       " 'later matriculated queen': 132,\n",
       " 'matriculated queen university': 141,\n",
       " 'queen university kingston': 194,\n",
       " 'university kingston ontario': 224,\n",
       " 'musk later': 163,\n",
       " 'later transferred': 133,\n",
       " 'transferred university': 217,\n",
       " 'university pennsylvania': 225,\n",
       " 'pennsylvania received': 179,\n",
       " 'received bachelor': 195,\n",
       " 'bachelor degree': 20,\n",
       " 'degree economics': 87,\n",
       " 'economics physic': 92,\n",
       " 'musk later transferred': 164,\n",
       " 'later transferred university': 134,\n",
       " 'transferred university pennsylvania': 218,\n",
       " 'university pennsylvania received': 226,\n",
       " 'pennsylvania received bachelor': 180,\n",
       " 'received bachelor degree': 196,\n",
       " 'bachelor degree economics': 21,\n",
       " 'degree economics physic': 88,\n",
       " 'moved california': 150,\n",
       " 'california attend': 43,\n",
       " 'attend stanford': 16,\n",
       " 'stanford university': 209,\n",
       " 'moved california attend': 151,\n",
       " 'california attend stanford': 44,\n",
       " 'attend stanford university': 17,\n",
       " 'however musk': 116,\n",
       " 'musk dropped': 156,\n",
       " 'dropped two': 90,\n",
       " 'two day': 219,\n",
       " 'day brother': 85,\n",
       " 'brother kimbal': 39,\n",
       " 'kimbal co': 128,\n",
       " 'co founded': 65,\n",
       " 'founded online': 106,\n",
       " 'online city': 171,\n",
       " 'city guide': 63,\n",
       " 'guide software': 114,\n",
       " 'software company': 201,\n",
       " 'company zip': 76,\n",
       " 'however musk dropped': 117,\n",
       " 'musk dropped two': 157,\n",
       " 'dropped two day': 91,\n",
       " 'two day brother': 220,\n",
       " 'day brother kimbal': 86,\n",
       " 'brother kimbal co': 40,\n",
       " 'kimbal co founded': 129,\n",
       " 'co founded online': 67,\n",
       " 'founded online city': 107,\n",
       " 'online city guide': 172,\n",
       " 'city guide software': 64,\n",
       " 'guide software company': 115,\n",
       " 'software company zip': 202,\n",
       " 'startup acquired': 210,\n",
       " 'acquired compaq': 4,\n",
       " 'compaq million': 77,\n",
       " 'million million': 144,\n",
       " 'million money': 146,\n",
       " 'money made': 148,\n",
       " 'made year': 137,\n",
       " 'year musk': 237,\n",
       " 'musk co': 154,\n",
       " 'founded com': 104,\n",
       " 'com direct': 70,\n",
       " 'direct bank': 89,\n",
       " 'startup acquired compaq': 211,\n",
       " 'acquired compaq million': 5,\n",
       " 'compaq million million': 78,\n",
       " 'million million money': 145,\n",
       " 'million money made': 147,\n",
       " 'money made year': 149,\n",
       " 'made year musk': 138,\n",
       " 'year musk co': 238,\n",
       " 'musk co founded': 155,\n",
       " 'co founded com': 66,\n",
       " 'founded com direct': 105,\n",
       " 'com direct bank': 71,\n",
       " 'com merged': 72,\n",
       " 'merged confinity': 142,\n",
       " 'confinity form': 79,\n",
       " 'form paypal': 101,\n",
       " 'com merged confinity': 73,\n",
       " 'merged confinity form': 143,\n",
       " 'confinity form paypal': 80}"
      ]
     },
     "execution_count": 15,
     "metadata": {},
     "output_type": "execute_result"
    }
   ],
   "source": [
    "cv.vocabulary_  ### Just checking the index number of the words "
   ]
  },
  {
   "cell_type": "markdown",
   "id": "5ad4c0d7",
   "metadata": {},
   "source": [
    "### TF-IDF"
   ]
  },
  {
   "cell_type": "code",
   "execution_count": 20,
   "id": "78a07c22",
   "metadata": {},
   "outputs": [],
   "source": [
    "from sklearn.feature_extraction.text import TfidfVectorizer\n",
    "cv = TfidfVectorizer(ngram_range=(3,3))\n",
    "X2 = cv.fit_transform(corpus)"
   ]
  },
  {
   "cell_type": "code",
   "execution_count": 21,
   "id": "e9e8c9e0",
   "metadata": {},
   "outputs": [
    {
     "data": {
      "text/plain": [
       "array([[0.        , 0.        , 0.        , 0.        , 0.        ,\n",
       "        0.        , 0.        , 0.        , 0.        , 0.        ,\n",
       "        0.        , 0.        , 0.        , 0.        , 0.        ,\n",
       "        0.        , 0.35355339, 0.        , 0.        , 0.        ,\n",
       "        0.35355339, 0.        , 0.        , 0.        , 0.        ,\n",
       "        0.        , 0.        , 0.        , 0.        , 0.        ,\n",
       "        0.        , 0.        , 0.        , 0.        , 0.        ,\n",
       "        0.        , 0.        , 0.        , 0.        , 0.        ,\n",
       "        0.        , 0.        , 0.        , 0.        , 0.        ,\n",
       "        0.35355339, 0.35355339, 0.        , 0.        , 0.        ,\n",
       "        0.        , 0.        , 0.        , 0.        , 0.        ,\n",
       "        0.        , 0.        , 0.        , 0.        , 0.        ,\n",
       "        0.        , 0.35355339, 0.        , 0.        , 0.        ,\n",
       "        0.35355339, 0.        , 0.        , 0.        , 0.        ,\n",
       "        0.        , 0.        , 0.        , 0.        , 0.        ,\n",
       "        0.        , 0.35355339, 0.        , 0.        , 0.        ,\n",
       "        0.        , 0.        , 0.        , 0.        , 0.        ,\n",
       "        0.        , 0.        , 0.        , 0.        , 0.        ,\n",
       "        0.        , 0.        , 0.        , 0.        , 0.        ,\n",
       "        0.35355339, 0.        , 0.        , 0.        , 0.        ,\n",
       "        0.        , 0.        , 0.        , 0.        , 0.        ,\n",
       "        0.        , 0.        , 0.        , 0.        , 0.        ,\n",
       "        0.        , 0.        , 0.        , 0.        , 0.        ]])"
      ]
     },
     "execution_count": 21,
     "metadata": {},
     "output_type": "execute_result"
    }
   ],
   "source": [
    "X2[0].toarray()"
   ]
  }
 ],
 "metadata": {
  "kernelspec": {
   "display_name": "Python 3 (ipykernel)",
   "language": "python",
   "name": "python3"
  },
  "language_info": {
   "codemirror_mode": {
    "name": "ipython",
    "version": 3
   },
   "file_extension": ".py",
   "mimetype": "text/x-python",
   "name": "python",
   "nbconvert_exporter": "python",
   "pygments_lexer": "ipython3",
   "version": "3.11.4"
  }
 },
 "nbformat": 4,
 "nbformat_minor": 5
}
